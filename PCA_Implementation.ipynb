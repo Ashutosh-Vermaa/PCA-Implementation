{
  "nbformat": 4,
  "nbformat_minor": 0,
  "metadata": {
    "colab": {
      "provenance": []
    },
    "kernelspec": {
      "name": "python3",
      "display_name": "Python 3"
    },
    "language_info": {
      "name": "python"
    }
  },
  "cells": [
    {
      "cell_type": "code",
      "execution_count": 4,
      "metadata": {
        "id": "KvNzoN3DiCEV"
      },
      "outputs": [],
      "source": [
        "import pandas as pd\n",
        "import numpy as np\n",
        "import matplotlib.pyplot as plt\n",
        "from scipy.linalg import eig\n",
        "# from numpy.lialg import eig"
      ]
    },
    {
      "cell_type": "code",
      "source": [
        "#2D data\n",
        "data= np.array([[3, 4], [2,8], [6,9], [10,12]])"
      ],
      "metadata": {
        "id": "MEY5sLC_iyK_"
      },
      "execution_count": 5,
      "outputs": []
    },
    {
      "cell_type": "code",
      "source": [
        "df= pd.DataFrame(data, columns=['ml', 'dl'])\n",
        "df"
      ],
      "metadata": {
        "colab": {
          "base_uri": "https://localhost:8080/",
          "height": 175
        },
        "id": "XhUKhVNgi_18",
        "outputId": "83cebed7-0884-4914-b1cb-17d5ff68495a"
      },
      "execution_count": 7,
      "outputs": [
        {
          "output_type": "execute_result",
          "data": {
            "text/plain": [
              "   ml  dl\n",
              "0   3   4\n",
              "1   2   8\n",
              "2   6   9\n",
              "3  10  12"
            ],
            "text/html": [
              "\n",
              "  <div id=\"df-0375d5c3-0a39-4da6-83d0-6f250238f369\">\n",
              "    <div class=\"colab-df-container\">\n",
              "      <div>\n",
              "<style scoped>\n",
              "    .dataframe tbody tr th:only-of-type {\n",
              "        vertical-align: middle;\n",
              "    }\n",
              "\n",
              "    .dataframe tbody tr th {\n",
              "        vertical-align: top;\n",
              "    }\n",
              "\n",
              "    .dataframe thead th {\n",
              "        text-align: right;\n",
              "    }\n",
              "</style>\n",
              "<table border=\"1\" class=\"dataframe\">\n",
              "  <thead>\n",
              "    <tr style=\"text-align: right;\">\n",
              "      <th></th>\n",
              "      <th>ml</th>\n",
              "      <th>dl</th>\n",
              "    </tr>\n",
              "  </thead>\n",
              "  <tbody>\n",
              "    <tr>\n",
              "      <th>0</th>\n",
              "      <td>3</td>\n",
              "      <td>4</td>\n",
              "    </tr>\n",
              "    <tr>\n",
              "      <th>1</th>\n",
              "      <td>2</td>\n",
              "      <td>8</td>\n",
              "    </tr>\n",
              "    <tr>\n",
              "      <th>2</th>\n",
              "      <td>6</td>\n",
              "      <td>9</td>\n",
              "    </tr>\n",
              "    <tr>\n",
              "      <th>3</th>\n",
              "      <td>10</td>\n",
              "      <td>12</td>\n",
              "    </tr>\n",
              "  </tbody>\n",
              "</table>\n",
              "</div>\n",
              "      <button class=\"colab-df-convert\" onclick=\"convertToInteractive('df-0375d5c3-0a39-4da6-83d0-6f250238f369')\"\n",
              "              title=\"Convert this dataframe to an interactive table.\"\n",
              "              style=\"display:none;\">\n",
              "        \n",
              "  <svg xmlns=\"http://www.w3.org/2000/svg\" height=\"24px\"viewBox=\"0 0 24 24\"\n",
              "       width=\"24px\">\n",
              "    <path d=\"M0 0h24v24H0V0z\" fill=\"none\"/>\n",
              "    <path d=\"M18.56 5.44l.94 2.06.94-2.06 2.06-.94-2.06-.94-.94-2.06-.94 2.06-2.06.94zm-11 1L8.5 8.5l.94-2.06 2.06-.94-2.06-.94L8.5 2.5l-.94 2.06-2.06.94zm10 10l.94 2.06.94-2.06 2.06-.94-2.06-.94-.94-2.06-.94 2.06-2.06.94z\"/><path d=\"M17.41 7.96l-1.37-1.37c-.4-.4-.92-.59-1.43-.59-.52 0-1.04.2-1.43.59L10.3 9.45l-7.72 7.72c-.78.78-.78 2.05 0 2.83L4 21.41c.39.39.9.59 1.41.59.51 0 1.02-.2 1.41-.59l7.78-7.78 2.81-2.81c.8-.78.8-2.07 0-2.86zM5.41 20L4 18.59l7.72-7.72 1.47 1.35L5.41 20z\"/>\n",
              "  </svg>\n",
              "      </button>\n",
              "      \n",
              "  <style>\n",
              "    .colab-df-container {\n",
              "      display:flex;\n",
              "      flex-wrap:wrap;\n",
              "      gap: 12px;\n",
              "    }\n",
              "\n",
              "    .colab-df-convert {\n",
              "      background-color: #E8F0FE;\n",
              "      border: none;\n",
              "      border-radius: 50%;\n",
              "      cursor: pointer;\n",
              "      display: none;\n",
              "      fill: #1967D2;\n",
              "      height: 32px;\n",
              "      padding: 0 0 0 0;\n",
              "      width: 32px;\n",
              "    }\n",
              "\n",
              "    .colab-df-convert:hover {\n",
              "      background-color: #E2EBFA;\n",
              "      box-shadow: 0px 1px 2px rgba(60, 64, 67, 0.3), 0px 1px 3px 1px rgba(60, 64, 67, 0.15);\n",
              "      fill: #174EA6;\n",
              "    }\n",
              "\n",
              "    [theme=dark] .colab-df-convert {\n",
              "      background-color: #3B4455;\n",
              "      fill: #D2E3FC;\n",
              "    }\n",
              "\n",
              "    [theme=dark] .colab-df-convert:hover {\n",
              "      background-color: #434B5C;\n",
              "      box-shadow: 0px 1px 3px 1px rgba(0, 0, 0, 0.15);\n",
              "      filter: drop-shadow(0px 1px 2px rgba(0, 0, 0, 0.3));\n",
              "      fill: #FFFFFF;\n",
              "    }\n",
              "  </style>\n",
              "\n",
              "      <script>\n",
              "        const buttonEl =\n",
              "          document.querySelector('#df-0375d5c3-0a39-4da6-83d0-6f250238f369 button.colab-df-convert');\n",
              "        buttonEl.style.display =\n",
              "          google.colab.kernel.accessAllowed ? 'block' : 'none';\n",
              "\n",
              "        async function convertToInteractive(key) {\n",
              "          const element = document.querySelector('#df-0375d5c3-0a39-4da6-83d0-6f250238f369');\n",
              "          const dataTable =\n",
              "            await google.colab.kernel.invokeFunction('convertToInteractive',\n",
              "                                                     [key], {});\n",
              "          if (!dataTable) return;\n",
              "\n",
              "          const docLinkHtml = 'Like what you see? Visit the ' +\n",
              "            '<a target=\"_blank\" href=https://colab.research.google.com/notebooks/data_table.ipynb>data table notebook</a>'\n",
              "            + ' to learn more about interactive tables.';\n",
              "          element.innerHTML = '';\n",
              "          dataTable['output_type'] = 'display_data';\n",
              "          await google.colab.output.renderOutput(dataTable, element);\n",
              "          const docLink = document.createElement('div');\n",
              "          docLink.innerHTML = docLinkHtml;\n",
              "          element.appendChild(docLink);\n",
              "        }\n",
              "      </script>\n",
              "    </div>\n",
              "  </div>\n",
              "  "
            ]
          },
          "metadata": {},
          "execution_count": 7
        }
      ]
    },
    {
      "cell_type": "code",
      "source": [
        "plt.scatter(df['ml'], df['dl'])"
      ],
      "metadata": {
        "colab": {
          "base_uri": "https://localhost:8080/",
          "height": 282
        },
        "id": "VOZIZORsjP6B",
        "outputId": "b6eba3a2-1394-4e81-dc62-fb97e607a0ea"
      },
      "execution_count": 8,
      "outputs": [
        {
          "output_type": "execute_result",
          "data": {
            "text/plain": [
              "<matplotlib.collections.PathCollection at 0x7fb0649c98e0>"
            ]
          },
          "metadata": {},
          "execution_count": 8
        },
        {
          "output_type": "display_data",
          "data": {
            "text/plain": [
              "<Figure size 432x288 with 1 Axes>"
            ],
            "image/png": "[encoded data removed]"
          },
          "metadata": {
            "needs_background": "light"
          }
        }
      ]
    },
    {
      "cell_type": "code",
      "source": [
        "#PCA steps\n",
        "\n",
        "# 1. Standardize data (zero centric data- mean=0)\n",
        "# 2. cov matrix\n",
        "# 3. eigen value and eigenvector\n",
        "\n",
        "data.T #gives transpoze of data\n",
        "meanByCol= np.mean(data, axis=0)"
      ],
      "metadata": {
        "id": "f4IkeiW8jVYq"
      },
      "execution_count": 11,
      "outputs": []
    },
    {
      "cell_type": "code",
      "source": [
        "np.mean(data.T, axis=1) #row wise mean"
      ],
      "metadata": {
        "colab": {
          "base_uri": "https://localhost:8080/"
        },
        "id": "zE7h5aJ6kAes",
        "outputId": "afe752bc-2a50-45a1-be1d-1bf597b834af"
      },
      "execution_count": 10,
      "outputs": [
        {
          "output_type": "execute_result",
          "data": {
            "text/plain": [
              "array([5.25, 8.25])"
            ]
          },
          "metadata": {},
          "execution_count": 10
        }
      ]
    },
    {
      "cell_type": "code",
      "source": [
        "scaledData= data-meanByCol #this is zero centric data i.e. its mean is 0"
      ],
      "metadata": {
        "id": "0jjYyI9bjmDL"
      },
      "execution_count": 13,
      "outputs": []
    },
    {
      "cell_type": "code",
      "source": [
        "#step 2- Cov variance\n",
        "covMat=np.cov(scaledData.T)"
      ],
      "metadata": {
        "id": "Wo_Id8BHko71"
      },
      "execution_count": 15,
      "outputs": []
    },
    {
      "cell_type": "code",
      "source": [
        "eigValues, eigVectors=np.linalg.eig(covMat)\n",
        "eigValues"
      ],
      "metadata": {
        "colab": {
          "base_uri": "https://localhost:8080/"
        },
        "id": "RQ1lFXLmld1G",
        "outputId": "48e6cc11-1dd0-405a-dd4a-3aadf2d0abef"
      },
      "execution_count": 22,
      "outputs": [
        {
          "output_type": "execute_result",
          "data": {
            "text/plain": [
              "array([21.55203266,  2.28130068])"
            ]
          },
          "metadata": {},
          "execution_count": 22
        }
      ]
    },
    {
      "cell_type": "code",
      "source": [
        "eigVectors"
      ],
      "metadata": {
        "colab": {
          "base_uri": "https://localhost:8080/"
        },
        "id": "y24IqccnlkJL",
        "outputId": "163ac953-55c6-4ad3-e992-6f49f913709d"
      },
      "execution_count": 23,
      "outputs": [
        {
          "output_type": "execute_result",
          "data": {
            "text/plain": [
              "array([[ 0.74289445, -0.66940857],\n",
              "       [ 0.66940857,  0.74289445]])"
            ]
          },
          "metadata": {},
          "execution_count": 23
        }
      ]
    },
    {
      "cell_type": "code",
      "source": [
        "eigVectors.T.dot(scaledData.T).T"
      ],
      "metadata": {
        "colab": {
          "base_uri": "https://localhost:8080/"
        },
        "id": "odDzV0wdl2EA",
        "outputId": "af000971-59c6-4786-b41f-02143e340f8d"
      },
      "execution_count": 27,
      "outputs": [
        {
          "output_type": "execute_result",
          "data": {
            "text/plain": [
              "array([[-4.51649894, -1.65113213],\n",
              "       [-2.58175911,  1.98985424],\n",
              "       [ 1.05922727,  0.05511441],\n",
              "       [ 6.03903078, -0.39383652]])"
            ]
          },
          "metadata": {},
          "execution_count": 27
        }
      ]
    },
    {
      "cell_type": "code",
      "source": [
        "#using Sklearn\n",
        "from sklearn.decomposition import PCA\n",
        "\n",
        "pca= PCA()"
      ],
      "metadata": {
        "id": "ZNju-1-nnVmL"
      },
      "execution_count": 28,
      "outputs": []
    },
    {
      "cell_type": "code",
      "source": [
        "pca.fit_transform(scaledData) #These new columns are PC1 and PC2"
      ],
      "metadata": {
        "colab": {
          "base_uri": "https://localhost:8080/"
        },
        "id": "COg4WhqyndAj",
        "outputId": "3718e936-29e8-402c-f341-a4af465f0928"
      },
      "execution_count": 30,
      "outputs": [
        {
          "output_type": "execute_result",
          "data": {
            "text/plain": [
              "array([[-4.51649894, -1.65113213],\n",
              "       [-2.58175911,  1.98985424],\n",
              "       [ 1.05922727,  0.05511441],\n",
              "       [ 6.03903078, -0.39383652]])"
            ]
          },
          "metadata": {},
          "execution_count": 30
        }
      ]
    },
    {
      "cell_type": "code",
      "source": [
        "pca.inverse_transform(pca.fit_transform(scaledData)) #gives back scaled data"
      ],
      "metadata": {
        "colab": {
          "base_uri": "https://localhost:8080/"
        },
        "id": "D1jDQhM7nkZe",
        "outputId": "866868c1-05e7-44f9-8eaa-96aad578d036"
      },
      "execution_count": 31,
      "outputs": [
        {
          "output_type": "execute_result",
          "data": {
            "text/plain": [
              "array([[-2.25, -4.25],\n",
              "       [-3.25, -0.25],\n",
              "       [ 0.75,  0.75],\n",
              "       [ 4.75,  3.75]])"
            ]
          },
          "metadata": {},
          "execution_count": 31
        }
      ]
    },
    {
      "cell_type": "code",
      "source": [
        "pca.explained_variance_ratio_ #it shows how much variance is explained by PC1 and PC2. Adding both gives 1"
      ],
      "metadata": {
        "colab": {
          "base_uri": "https://localhost:8080/"
        },
        "id": "iZbhH4XRoSjL",
        "outputId": "2d77ffc3-a7ef-40cc-f6fd-5011c9a6ea98"
      },
      "execution_count": 32,
      "outputs": [
        {
          "output_type": "execute_result",
          "data": {
            "text/plain": [
              "array([0.90428109, 0.09571891])"
            ]
          },
          "metadata": {},
          "execution_count": 32
        }
      ]
    },
    {
      "cell_type": "code",
      "source": [
        "\n",
        "data= pd.read_csv(\"https://archive.ics.uci.edu/ml/machine-learning-databases/glass/glass.data\")"
      ],
      "metadata": {
        "id": "K7F77jiPoVW9"
      },
      "execution_count": 40,
      "outputs": []
    },
    {
      "cell_type": "code",
      "source": [
        "data=data.iloc[:, :-1]"
      ],
      "metadata": {
        "id": "RkP7Ah8Bo87I"
      },
      "execution_count": 41,
      "outputs": []
    },
    {
      "cell_type": "code",
      "source": [
        "#PCA\n",
        "\n",
        "from sklearn.preprocessing import StandardScaler\n",
        "scaler= StandardScaler()\n",
        "\n",
        "scaledData= scaler.fit_transform(data)"
      ],
      "metadata": {
        "id": "nLC5IxIto9iB"
      },
      "execution_count": 43,
      "outputs": []
    },
    {
      "cell_type": "code",
      "source": [
        "scaledData"
      ],
      "metadata": {
        "colab": {
          "base_uri": "https://localhost:8080/"
        },
        "id": "sxgVpj1xqmcd",
        "outputId": "8aa1dc8f-1694-47e7-8688-b668d54e17be"
      },
      "execution_count": 44,
      "outputs": [
        {
          "output_type": "execute_result",
          "data": {
            "text/plain": [
              "array([[-1.72393811, -0.2451006 ,  0.59188032, ..., -0.79259935,\n",
              "        -0.35380764, -0.58830108],\n",
              "       [-1.70767455, -0.71682556,  0.15094587, ..., -0.82773435,\n",
              "        -0.35380764, -0.58830108],\n",
              "       [-1.69141098, -0.22860672, -0.24099586, ..., -0.51854637,\n",
              "        -0.35380764, -0.58830108],\n",
              "       ...,\n",
              "       [ 1.69141098,  0.75772729,  1.16754474, ..., -0.36395239,\n",
              "         2.94550057, -0.58830108],\n",
              "       [ 1.70767455, -0.60796596,  1.19204109, ..., -0.33584439,\n",
              "         2.80467644, -0.58830108],\n",
              "       [ 1.72393811, -0.4100394 ,  1.00831841, ..., -0.2374664 ,\n",
              "         3.00585377, -0.58830108]])"
            ]
          },
          "metadata": {},
          "execution_count": 44
        }
      ]
    },
    {
      "cell_type": "code",
      "source": [
        "pca.fit_transform(scaledData)"
      ],
      "metadata": {
        "colab": {
          "base_uri": "https://localhost:8080/"
        },
        "id": "L3V-DyhMqvgW",
        "outputId": "1a786114-fd9b-41d8-a331-cca079df5026"
      },
      "execution_count": 58,
      "outputs": [
        {
          "output_type": "execute_result",
          "data": {
            "text/plain": [
              "array([[-7.53337402e-01, -1.33660447e+00, -5.31570029e-01, ...,\n",
              "        -1.07188645e+00, -2.85991818e-01, -3.90574111e-03],\n",
              "       [-5.51352352e-01, -1.68189878e+00, -5.41976706e-01, ...,\n",
              "        -1.01531241e+00, -9.74347953e-02,  2.83768317e-02],\n",
              "       [-1.16146804e+00, -1.19978787e+00, -1.04497068e-01, ...,\n",
              "        -7.23624492e-01, -4.80280513e-03,  9.75501612e-02],\n",
              "       ...,\n",
              "       [ 3.62302794e+00,  1.70722317e+00, -9.05643464e-01, ...,\n",
              "         3.47864589e-01, -8.90135407e-01,  4.53878869e-02],\n",
              "       [ 3.89063814e+00,  8.96342048e-01, -1.21958354e+00, ...,\n",
              "         2.70794626e-01,  7.60050910e-02, -2.84718470e-02],\n",
              "       [ 3.94590237e+00,  1.16072385e+00, -8.71160964e-01, ...,\n",
              "         3.11713472e-01,  6.44068109e-02, -2.05272906e-02]])"
            ]
          },
          "metadata": {},
          "execution_count": 58
        }
      ]
    },
    {
      "cell_type": "code",
      "source": [
        "var=pca.explained_variance_ratio_"
      ],
      "metadata": {
        "id": "jAK4l9fyq8VA"
      },
      "execution_count": 60,
      "outputs": []
    },
    {
      "cell_type": "code",
      "source": [
        "plt.figure()\n",
        "plt.plot(np.cumsum(var))\n",
        "plt.xlabel('Number of compnents')\n",
        "plt.ylabel('Cumulative Explained Variance') #it shows that we can keep 6/7 PCA for getting maximum variance from the data"
      ],
      "metadata": {
        "colab": {
          "base_uri": "https://localhost:8080/",
          "height": 296
        },
        "id": "dU2SzG-CrO_o",
        "outputId": "69686a5b-9bc0-4182-caa8-c25152bac50e"
      },
      "execution_count": 64,
      "outputs": [
        {
          "output_type": "execute_result",
          "data": {
            "text/plain": [
              "Text(0, 0.5, 'Cumulative Explained Variance')"
            ]
          },
          "metadata": {},
          "execution_count": 64
        },
        {
          "output_type": "display_data",
          "data": {
            "text/plain": [
              "<Figure size 432x288 with 1 Axes>"
            ],
            "image/png": "[encoded data removed]"
          },
          "metadata": {
            "needs_background": "light"
          }
        }
      ]
    }
  ]
}